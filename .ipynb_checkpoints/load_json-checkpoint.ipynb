{
 "cells": [
  {
   "cell_type": "code",
   "execution_count": null,
   "metadata": {},
   "outputs": [],
   "source": [
    "json_dir = \"D:/aihub/annotation/3d\""
   ]
  },
  {
   "cell_type": "code",
   "execution_count": null,
   "metadata": {},
   "outputs": [],
   "source": [
    "import os\n",
    "json_list = os.listdir(json_dir)"
   ]
  },
  {
   "cell_type": "code",
   "execution_count": null,
   "metadata": {},
   "outputs": [],
   "source": [
    "import json\n",
    "import numpy as np\n",
    "\n",
    "import matplotlib.pyplot as plt\n",
    "from mpl_toolkits.mplot3d import Axes3D\n",
    "from tqdm import tqdm_notebook as tqdm"
   ]
  },
  {
   "cell_type": "code",
   "execution_count": null,
   "metadata": {},
   "outputs": [],
   "source": [
    "def segment_list_by_num(list_array, num):\n",
    "    if len(list_array) % num != 0:\n",
    "        print('Modulo by {} is {}'.format(num, len(list_array) % num))\n",
    "        return None\n",
    "    \n",
    "    divided_list = list()\n",
    "    \n",
    "    for i in range(int(np.floor(len(list_array)/num))):\n",
    "        divided_list.append(list_array[i * num:(i + 1) * num])\n",
    "        \n",
    "    return divided_list"
   ]
  },
  {
   "cell_type": "code",
   "execution_count": null,
   "metadata": {},
   "outputs": [],
   "source": [
    "start = 0\n",
    "file_nameset = ''\n",
    "start_idxs = list()\n",
    "\n",
    "for i, json_file in enumerate(json_list):\n",
    "    camera_name = json_file.split(' ')[0]\n",
    "    \n",
    "    if camera_name != file_nameset:\n",
    "        start_idxs.append(i)\n",
    "        file_nameset = camera_name\n",
    "    \n",
    "#     file_num = json_file[16:18]"
   ]
  },
  {
   "cell_type": "code",
   "execution_count": null,
   "metadata": {},
   "outputs": [],
   "source": [
    "camera_set_list = list()\n",
    "\n",
    "for start, end in zip(start_idxs[:-1], start_idxs[1:]):\n",
    "    camera_set_list.append(json_list[start:end])"
   ]
  },
  {
   "cell_type": "code",
   "execution_count": null,
   "metadata": {
    "scrolled": true
   },
   "outputs": [],
   "source": [
    "ordered_camera_set_list = list()\n",
    "\n",
    "for i, camera_set in enumerate(camera_set_list):\n",
    "    order_list = list()\n",
    "    for file_name in camera_set:\n",
    "        order_list.append(int(file_name.split(' ')[1]))\n",
    "    sort_idxs = np.argsort(order_list)\n",
    "    ordered_camera_set_list.append(np.asarray(camera_set)[sort_idxs])"
   ]
  },
  {
   "cell_type": "code",
   "execution_count": null,
   "metadata": {
    "scrolled": true
   },
   "outputs": [],
   "source": [
    "joint_names = ['right_ankle', 'right_knee', 'right_hip', 'left_hip', 'left_knee', \n",
    "'left_ankle', 'pelvis', 'thorax', 'neck', 'head_top', 'right_wrist',\n",
    "'right_elbow', 'right_shoulder', 'left_shoulder', 'left_elbow', 'left_wrist']\n",
    "\n",
    "for i, joint_name in enumerate(joint_names):\n",
    "    print('{}: {}'.format(joint_name, i))\n",
    "\n",
    "transform_names = ['x', 'y', 'z', 'roll', 'pitch', 'yaw']\n",
    "\n",
    "save_dir = 'D:/aihub/motion_img'\n",
    "\n",
    "for ordered_camera_set in tqdm(ordered_camera_set_list):\n",
    "    \n",
    "    for json_file in ordered_camera_set[0:1]:\n",
    "#       print(json_file)\n",
    "        with open(os.path.join(json_dir, json_file)) as file:    \n",
    "            data = json.load(file)\n",
    "            for i in range(len(data['annotations'])):\n",
    "                keypoints = (data['annotations'][i]['keypoints'])\n",
    "                divided_list = segment_list_by_num(keypoints, 6)\n",
    "                transform_matrix = np.asarray(divided_list)\n",
    "    #           print(keypoints)\n",
    "    #           print(len(keypoints))\n",
    "\n",
    "                fig = plt.figure(figsize = (12, 12))\n",
    "    #           fig.set_visible(False)\n",
    "                ax = fig.add_subplot(111, projection='3d')\n",
    "                ax.scatter(transform_matrix[:, 0], transform_matrix[:, 2], transform_matrix[:, 1])\n",
    "                ax.plot(transform_matrix[0:3, 0], transform_matrix[0:3, 2], transform_matrix[0:3, 1])\n",
    "                ax.plot(transform_matrix[[2, 6], 0], transform_matrix[[2, 6], 2], transform_matrix[[2, 6], 1])\n",
    "                ax.plot(transform_matrix[[3, 6], 0], transform_matrix[[3, 6], 2], transform_matrix[[3, 6], 1])\n",
    "                ax.plot(transform_matrix[3:6, 0], transform_matrix[3:6, 2], transform_matrix[3:6, 1])\n",
    "                ax.plot(transform_matrix[6:10, 0], transform_matrix[6:10, 2], transform_matrix[6:10, 1])\n",
    "                ax.plot(transform_matrix[10:13, 0], transform_matrix[10:13, 2], transform_matrix[10:13, 1])\n",
    "                ax.plot(transform_matrix[[12, 8], 0], transform_matrix[[12, 8], 2], transform_matrix[[12, 8], 1])\n",
    "                ax.plot(transform_matrix[[13, 8], 0], transform_matrix[[13, 8], 2], transform_matrix[[13, 8], 1])\n",
    "                ax.plot(transform_matrix[13:16, 0], transform_matrix[13:16, 2], transform_matrix[13:16, 1])\n",
    "\n",
    "                ax.set_xlim3d(-90, 90)\n",
    "                ax.set_ylim3d(-90, 90)\n",
    "                ax.set_zlim3d(0, 180)\n",
    "\n",
    "    #             plt.show()\n",
    "\n",
    "                no_format_file_name = json_file.replace('.json', '')\n",
    "        \n",
    "                name_splits = no_format_file_name.split(' ')\n",
    "        \n",
    "                png_file_name = \"{} {}-{:02d} {}\".format(name_splits[0], name_splits[1], i, name_splits[2])\n",
    "        \n",
    "                print(png_file_name)\n",
    "\n",
    "                plt.savefig(os.path.join(save_dir, png_file_name))\n",
    "\n",
    "                plt.close()    "
   ]
  },
  {
   "cell_type": "code",
   "execution_count": null,
   "metadata": {},
   "outputs": [],
   "source": []
  }
 ],
 "metadata": {
  "kernelspec": {
   "display_name": "Python 3",
   "language": "python",
   "name": "python3"
  },
  "language_info": {
   "codemirror_mode": {
    "name": "ipython",
    "version": 3
   },
   "file_extension": ".py",
   "mimetype": "text/x-python",
   "name": "python",
   "nbconvert_exporter": "python",
   "pygments_lexer": "ipython3",
   "version": "3.7.4"
  }
 },
 "nbformat": 4,
 "nbformat_minor": 2
}
